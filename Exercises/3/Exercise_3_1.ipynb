{
  "nbformat": 4,
  "nbformat_minor": 0,
  "metadata": {
    "colab": {
      "provenance": []
    },
    "kernelspec": {
      "name": "python3",
      "display_name": "Python 3"
    },
    "language_info": {
      "name": "python"
    }
  },
  "cells": [
    {
      "cell_type": "markdown",
      "source": [
        "# Exercise 3.1\n",
        "\n",
        "Consider the [Yale face dataset](https://vismod.media.mit.edu/vismod/classes/mas622-00/datasets). Apply a dimension reduction with PCA. Verify that it is possible to recognise individuals on the principal plane."
      ],
      "metadata": {
        "id": "SkiPxtyy5B1b"
      }
    },
    {
      "cell_type": "markdown",
      "source": [
        "## Preamble"
      ],
      "metadata": {
        "id": "YR-cDhbT6uww"
      }
    },
    {
      "cell_type": "code",
      "source": [
        "import os               # operating system interaction\n",
        "from PIL import Image   # load images\n",
        "\n",
        "import numpy as np\n",
        "\n",
        "from sklearn.decomposition import PCA\n",
        "\n",
        "import matplotlib.pyplot as plt"
      ],
      "metadata": {
        "id": "3RNuP5bB6wUv"
      },
      "execution_count": null,
      "outputs": []
    },
    {
      "cell_type": "markdown",
      "source": [
        "## Load data"
      ],
      "metadata": {
        "id": "TlduO0fB6eF8"
      }
    },
    {
      "cell_type": "markdown",
      "source": [
        "Download the Yale normalized dateset."
      ],
      "metadata": {
        "id": "OfMvHPpn9BYG"
      }
    },
    {
      "cell_type": "code",
      "execution_count": null,
      "metadata": {
        "colab": {
          "base_uri": "https://localhost:8080/"
        },
        "collapsed": true,
        "id": "fHAYCUfa4_Vw",
        "outputId": "7458ebc1-9e3a-4ef5-fa71-57457ad06143"
      },
      "outputs": [
        {
          "output_type": "stream",
          "name": "stdout",
          "text": [
            "--2025-07-18 15:43:26--  https://vismod.media.mit.edu/vismod/classes/mas622-00/datasets/YALE/yalefaces.tar.gz\n",
            "Resolving vismod.media.mit.edu (vismod.media.mit.edu)... 18.27.72.36\n",
            "Connecting to vismod.media.mit.edu (vismod.media.mit.edu)|18.27.72.36|:443... connected.\n",
            "HTTP request sent, awaiting response... 200 OK\n",
            "Length: 6027795 (5.7M) [application/x-gzip]\n",
            "Saving to: ‘yalefaces.tar.gz’\n",
            "\n",
            "yalefaces.tar.gz    100%[===================>]   5.75M  22.9MB/s    in 0.3s    \n",
            "\n",
            "2025-07-18 15:43:26 (22.9 MB/s) - ‘yalefaces.tar.gz’ saved [6027795/6027795]\n",
            "\n",
            "./\n",
            "./yalefaces/\n",
            "./yalefaces/subject01.centerlight\n",
            "./yalefaces/subject01.glasses\n",
            "./yalefaces/subject01.happy\n",
            "./yalefaces/subject01.leftlight\n",
            "./yalefaces/subject01.noglasses\n",
            "./yalefaces/subject01.normal\n",
            "./yalefaces/subject01.rightlight\n",
            "./yalefaces/subject01.sad\n",
            "./yalefaces/subject01.sleepy\n",
            "./yalefaces/subject01.surprised\n",
            "./yalefaces/subject01.wink\n",
            "./yalefaces/subject02.centerlight\n",
            "./yalefaces/subject02.glasses\n",
            "./yalefaces/subject02.happy\n",
            "./yalefaces/subject02.leftlight\n",
            "./yalefaces/subject02.noglasses\n",
            "./yalefaces/subject02.normal\n",
            "./yalefaces/subject02.rightlight\n",
            "./yalefaces/subject02.sad\n",
            "./yalefaces/subject02.sleepy\n",
            "./yalefaces/subject02.surprised\n",
            "./yalefaces/subject02.wink\n",
            "./yalefaces/subject03.centerlight\n",
            "./yalefaces/subject03.glasses\n",
            "./yalefaces/subject03.happy\n",
            "./yalefaces/subject03.leftlight\n",
            "./yalefaces/subject03.noglasses\n",
            "./yalefaces/subject03.normal\n",
            "./yalefaces/subject03.rightlight\n",
            "./yalefaces/subject03.sad\n",
            "./yalefaces/subject03.sleepy\n",
            "./yalefaces/subject03.surprised\n",
            "./yalefaces/subject03.wink\n",
            "./yalefaces/subject04.centerlight\n",
            "./yalefaces/subject04.glasses\n",
            "./yalefaces/subject04.happy\n",
            "./yalefaces/subject04.leftlight\n",
            "./yalefaces/subject04.noglasses\n",
            "./yalefaces/subject04.normal\n",
            "./yalefaces/subject04.rightlight\n",
            "./yalefaces/subject04.sad\n",
            "./yalefaces/subject04.sleepy\n",
            "./yalefaces/subject04.surprised\n",
            "./yalefaces/subject04.wink\n",
            "./yalefaces/subject05.centerlight\n",
            "./yalefaces/subject05.glasses\n",
            "./yalefaces/subject05.happy\n",
            "./yalefaces/subject05.leftlight\n",
            "./yalefaces/subject05.noglasses\n",
            "./yalefaces/subject05.normal\n",
            "./yalefaces/subject05.rightlight\n",
            "./yalefaces/subject05.sad\n",
            "./yalefaces/subject05.sleepy\n",
            "./yalefaces/subject05.surprised\n",
            "./yalefaces/subject05.wink\n",
            "./yalefaces/subject06.centerlight\n",
            "./yalefaces/subject06.glasses\n",
            "./yalefaces/subject06.happy\n",
            "./yalefaces/subject06.leftlight\n",
            "./yalefaces/subject06.noglasses\n",
            "./yalefaces/subject06.normal\n",
            "./yalefaces/subject06.rightlight\n",
            "./yalefaces/subject06.sad\n",
            "./yalefaces/subject06.sleepy\n",
            "./yalefaces/subject06.surprised\n",
            "./yalefaces/subject06.wink\n",
            "./yalefaces/subject07.centerlight\n",
            "./yalefaces/subject07.glasses\n",
            "./yalefaces/subject07.happy\n",
            "./yalefaces/subject07.leftlight\n",
            "./yalefaces/subject07.noglasses\n",
            "./yalefaces/subject07.normal\n",
            "./yalefaces/subject07.rightlight\n",
            "./yalefaces/subject07.sad\n",
            "./yalefaces/subject07.sleepy\n",
            "./yalefaces/subject07.surprised\n",
            "./yalefaces/subject07.wink\n",
            "./yalefaces/subject08.centerlight\n",
            "./yalefaces/subject08.glasses\n",
            "./yalefaces/subject08.happy\n",
            "./yalefaces/subject08.leftlight\n",
            "./yalefaces/subject08.noglasses\n",
            "./yalefaces/subject08.normal\n",
            "./yalefaces/subject08.rightlight\n",
            "./yalefaces/subject08.sad\n",
            "./yalefaces/subject08.sleepy\n",
            "./yalefaces/subject08.surprised\n",
            "./yalefaces/subject08.wink\n",
            "./yalefaces/subject09.centerlight\n",
            "./yalefaces/subject09.glasses\n",
            "./yalefaces/subject09.happy\n",
            "./yalefaces/subject09.leftlight\n",
            "./yalefaces/subject09.noglasses\n",
            "./yalefaces/subject09.normal\n",
            "./yalefaces/subject09.rightlight\n",
            "./yalefaces/subject09.sad\n",
            "./yalefaces/subject09.sleepy\n",
            "./yalefaces/subject09.surprised\n",
            "./yalefaces/subject09.wink\n",
            "./yalefaces/subject10.centerlight\n",
            "./yalefaces/subject10.glasses\n",
            "./yalefaces/subject10.happy\n",
            "./yalefaces/subject10.leftlight\n",
            "./yalefaces/subject10.noglasses\n",
            "./yalefaces/subject10.normal\n",
            "./yalefaces/subject10.rightlight\n",
            "./yalefaces/subject10.sad\n",
            "./yalefaces/subject10.sleepy\n",
            "./yalefaces/subject10.surprised\n",
            "./yalefaces/subject10.wink\n",
            "./yalefaces/subject11.centerlight\n",
            "./yalefaces/subject11.glasses\n",
            "./yalefaces/subject11.happy\n",
            "./yalefaces/subject11.leftlight\n",
            "./yalefaces/subject11.noglasses\n",
            "./yalefaces/subject11.normal\n",
            "./yalefaces/subject11.rightlight\n",
            "./yalefaces/subject11.sad\n",
            "./yalefaces/subject11.sleepy\n",
            "./yalefaces/subject11.surprised\n",
            "./yalefaces/subject11.wink\n",
            "./yalefaces/subject12.centerlight\n",
            "./yalefaces/subject12.glasses\n",
            "./yalefaces/subject12.happy\n",
            "./yalefaces/subject12.leftlight\n",
            "./yalefaces/subject12.noglasses\n",
            "./yalefaces/subject12.normal\n",
            "./yalefaces/subject12.rightlight\n",
            "./yalefaces/subject12.sad\n",
            "./yalefaces/subject12.sleepy\n",
            "./yalefaces/subject12.surprised\n",
            "./yalefaces/subject12.wink\n",
            "./yalefaces/subject13.centerlight\n",
            "./yalefaces/subject13.glasses\n",
            "./yalefaces/subject13.happy\n",
            "./yalefaces/subject13.leftlight\n",
            "./yalefaces/subject13.noglasses\n",
            "./yalefaces/subject13.normal\n",
            "./yalefaces/subject13.rightlight\n",
            "./yalefaces/subject13.sad\n",
            "./yalefaces/subject13.sleepy\n",
            "./yalefaces/subject13.surprised\n",
            "./yalefaces/subject13.wink\n",
            "./yalefaces/subject14.centerlight\n",
            "./yalefaces/subject14.glasses\n",
            "./yalefaces/subject14.happy\n",
            "./yalefaces/subject14.leftlight\n",
            "./yalefaces/subject14.noglasses\n",
            "./yalefaces/subject14.normal\n",
            "./yalefaces/subject14.rightlight\n",
            "./yalefaces/subject14.sad\n",
            "./yalefaces/subject14.sleepy\n",
            "./yalefaces/subject14.surprised\n",
            "./yalefaces/subject14.wink\n",
            "./yalefaces/subject15.centerlight\n",
            "./yalefaces/subject15.glasses\n",
            "./yalefaces/subject15.happy\n",
            "./yalefaces/subject15.leftlight\n",
            "./yalefaces/subject15.noglasses\n",
            "./yalefaces/subject15.normal\n",
            "./yalefaces/subject15.rightlight\n",
            "./yalefaces/subject15.sad\n",
            "./yalefaces/subject15.sleepy\n",
            "./yalefaces/subject15.surprised\n",
            "./yalefaces/subject15.wink\n",
            "./Readme\n"
          ]
        }
      ],
      "source": [
        "# download the dataset tarball\n",
        "!wget -O yalefaces.tar.gz \\\n",
        "    https://vismod.media.mit.edu/vismod/classes/mas622-00/datasets/YALE/yalefaces.tar.gz\n",
        "\n",
        "# create directory and extract\n",
        "!mkdir -p ./yale_faces\n",
        "!tar -xvzf yalefaces.tar.gz -C ./yale_faces"
      ]
    },
    {
      "cell_type": "markdown",
      "source": [
        "Turn each image file into one long numerical vector and associate it with a subject id."
      ],
      "metadata": {
        "id": "BIkxTGzy9Oqg"
      }
    },
    {
      "cell_type": "code",
      "source": [
        "folder = \"./yale_faces/yalefaces\"\n",
        "images, labels = [], []\n",
        "\n",
        "for filename in sorted(os.listdir(folder)):         # sort for reproducibility\n",
        "  #if filename.lower().endswith(('.pgm','.gif')):    # check for image extensions\n",
        "    # read image file and convert to greyscale\n",
        "    img = Image.open(os.path.join(folder, filename)).convert('L')\n",
        "    # flatten to 1D array of floats\n",
        "    images.append(\n",
        "        np.asarray(img, dtype=float).ravel() )\n",
        "    # extract person ID from filename, e.g. 'subject01.smile.pgm' -> '01'\n",
        "    labels.append(\n",
        "        int(filename.split('subject')[1].split('.')[0]) )\n",
        "\n",
        "X = np.stack(images)    # shape : (n_samples, n_pixels)\n",
        "y = np.array(labels)"
      ],
      "metadata": {
        "id": "M0XLeD7Z64WF"
      },
      "execution_count": null,
      "outputs": []
    },
    {
      "cell_type": "code",
      "source": [
        "display(X.shape,\n",
        "        y.shape)"
      ],
      "metadata": {
        "colab": {
          "base_uri": "https://localhost:8080/",
          "height": 52
        },
        "id": "13DZ8Vuz67fl",
        "outputId": "1c56ae7c-8fde-45c7-d061-de6420284a2b"
      },
      "execution_count": null,
      "outputs": [
        {
          "output_type": "display_data",
          "data": {
            "text/plain": [
              "(165, 77760)"
            ]
          },
          "metadata": {}
        },
        {
          "output_type": "display_data",
          "data": {
            "text/plain": [
              "(165,)"
            ]
          },
          "metadata": {}
        }
      ]
    },
    {
      "cell_type": "markdown",
      "source": [
        "## Execution"
      ],
      "metadata": {
        "id": "EtrbyPGZMEEv"
      }
    },
    {
      "cell_type": "markdown",
      "source": [
        "Center the data."
      ],
      "metadata": {
        "id": "ILwb5gfjMHBa"
      }
    },
    {
      "cell_type": "code",
      "source": [
        "mean_face  = X.mean(axis=0)   # the average of each pixel over all faces\n",
        "X_centered = X - mean_face"
      ],
      "metadata": {
        "id": "l31I-xNmME8G"
      },
      "execution_count": null,
      "outputs": []
    },
    {
      "cell_type": "markdown",
      "source": [
        "Compute PCA."
      ],
      "metadata": {
        "id": "Z4a5fOuEMnVb"
      }
    },
    {
      "cell_type": "code",
      "source": [
        "# compute eigenvectors associated to the two largest eigenvalues\n",
        "pca = PCA(n_components=2)\n",
        "# compute components and project data into the 2D plane\n",
        "principal_components = pca.fit_transform(X_centered)    # shape : (n,2)"
      ],
      "metadata": {
        "id": "skRMpT0qMo-n"
      },
      "execution_count": null,
      "outputs": []
    },
    {
      "cell_type": "markdown",
      "source": [
        "## Visualization"
      ],
      "metadata": {
        "id": "uT95KZSTM0OV"
      }
    },
    {
      "cell_type": "code",
      "source": [
        "plt.figure(figsize=(8,6))\n",
        "\n",
        "labels = np.unique(y)\n",
        "cmap   = plt.get_cmap('gist_ncar')\n",
        "colors = cmap(np.linspace(0, 1, len(labels)))\n",
        "\n",
        "for lab, col in zip(labels, colors):\n",
        "  mask = (y == lab)\n",
        "  plt.scatter(\n",
        "    principal_components[mask, 0],\n",
        "    principal_components[mask, 1],\n",
        "    c = [col],           # pass a single color per group\n",
        "    label = f'Person {lab}',\n",
        "    #alpha    = 0.7,\n",
        "    edgecolor = 'k',\n",
        "    linewidth = 0.1\n",
        "  )\n",
        "\n",
        "plt.xlabel('PC1')\n",
        "plt.ylabel('PC2')\n",
        "plt.legend(\n",
        "  bbox_to_anchor = (1.02, 1),    # x‐offset just outside the axes, y at top\n",
        "  loc = 'upper left',            # anchor the legend’s upper‑left corner\n",
        "  borderaxespad = 0.             # no padding from the axes box\n",
        ")\n",
        "\n",
        "plt.tight_layout()\n",
        "plt.show()"
      ],
      "metadata": {
        "colab": {
          "base_uri": "https://localhost:8080/",
          "height": 606
        },
        "id": "DdncekypM3jU",
        "outputId": "1902c6a2-0050-4bed-9074-632337d1f601"
      },
      "execution_count": null,
      "outputs": [
        {
          "output_type": "display_data",
          "data": {
            "text/plain": [
              "<Figure size 800x600 with 1 Axes>"
            ],
            "image/png": "[encoded data removed]"
          },
          "metadata": {}
        }
      ]
    },
    {
      "cell_type": "markdown",
      "source": [
        "We can clearly see some clusters that represent the same face."
      ],
      "metadata": {
        "id": "C2CXWTahVsWQ"
      }
    }
  ]
}