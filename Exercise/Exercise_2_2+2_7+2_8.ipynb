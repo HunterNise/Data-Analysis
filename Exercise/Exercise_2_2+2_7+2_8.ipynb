{
  "nbformat": 4,
  "nbformat_minor": 0,
  "metadata": {
    "colab": {
      "provenance": []
    },
    "kernelspec": {
      "name": "python3",
      "display_name": "Python 3"
    },
    "language_info": {
      "name": "python"
    }
  },
  "cells": [
    {
      "cell_type": "markdown",
      "source": [
        "# Exercise 2.2\n",
        "\n",
        "Consider the dataset `Ames`$^1$ from `R` package _modeldata_. Split the dataset in training and test subset, fit a linear regressive model with a arbitrarily chosen output (usually `Sale_Price`) and estimate the test error. Analyse the trend of test error when training and test set are split in different proportions. You may drop the categorical variables for simplicity, if you wish.\n",
        "\n",
        "---\n",
        "\n",
        "$^1$ Earlier versions of this set of exercises used the dataset `Boston` from package MASS. This turned out to be not a good idea from an ethical point of view, see for instance https://medium.com/@docintangible/racist-data-destruction-113e3eff54a8."
      ],
      "metadata": {
        "id": "qUgvLgrLC_OT"
      }
    },
    {
      "cell_type": "markdown",
      "source": [
        "## Preamble"
      ],
      "metadata": {
        "id": "zLf9HbOnHrz9"
      }
    },
    {
      "cell_type": "code",
      "source": [
        "import numpy  as np     # array and random\n",
        "import pandas as pd     # tabular data\n",
        "\n",
        "# models\n",
        "from sklearn.linear_model     import LinearRegression\n",
        "from sklearn.model_selection  import train_test_split\n",
        "from sklearn.metrics          import mean_squared_error\n",
        "\n",
        "# graphics\n",
        "from matplotlib.pyplot import subplots\n",
        "\n",
        "\n",
        "# fix random seed for reproducibility\n",
        "rng  = np.random.default_rng(2025)\n",
        "seed = int(rng.integers(0, 2**31))    # generate random seed"
      ],
      "metadata": {
        "id": "qZ4S_GY5DlAb"
      },
      "execution_count": null,
      "outputs": []
    },
    {
      "cell_type": "markdown",
      "source": [
        "## Load data"
      ],
      "metadata": {
        "id": "m5D51fgWPd3b"
      }
    },
    {
      "cell_type": "markdown",
      "source": [
        "The `Ames` dataset can be imported from:\n",
        "- the \"official\" `R` [package](https://github.com/topepo/AmesHousing/) (needs to be converted from `.rda`)\n",
        "- community-maintained [CSV](https://github.com/EAISI/discover-projects/tree/main/ames-housing)\n",
        "- [Kaggle](https://www.kaggle.com/c/house-prices-advanced-regression-techniques/data\n",
        ") (via Kaggle API or `wget`)\n",
        "\n",
        "I choose the second option."
      ],
      "metadata": {
        "id": "Rp2Q_WvmMEgJ"
      }
    },
    {
      "cell_type": "code",
      "source": [
        "ames_url = \"https://raw.githubusercontent.com/eaisi/discover-projects/main/ames-housing/AmesHousing.csv\"\n",
        "data = pd.read_csv(ames_url)"
      ],
      "metadata": {
        "id": "M7avqsoTPitC"
      },
      "execution_count": null,
      "outputs": []
    },
    {
      "cell_type": "markdown",
      "source": [
        "Inspect the first rows."
      ],
      "metadata": {
        "id": "jSxMb12LPr3K"
      }
    },
    {
      "cell_type": "code",
      "source": [
        "data.head()"
      ],
      "metadata": {
        "colab": {
          "base_uri": "https://localhost:8080/",
          "height": 273
        },
        "id": "FExH0PAfMDnK",
        "outputId": "82378462-c0e3-43c3-bb2b-f58763262e22"
      },
      "execution_count": null,
      "outputs": [
        {
          "output_type": "execute_result",
          "data": {
            "text/plain": [
              "   Order        PID  MS SubClass MS Zoning  Lot Frontage  Lot Area Street  \\\n",
              "0      1  526301100           20        RL         141.0     31770   Pave   \n",
              "1      2  526350040           20        RH          80.0     11622   Pave   \n",
              "2      3  526351010           20        RL          81.0     14267   Pave   \n",
              "3      4  526353030           20        RL          93.0     11160   Pave   \n",
              "4      5  527105010           60        RL          74.0     13830   Pave   \n",
              "\n",
              "  Alley Lot Shape Land Contour  ... Pool Area Pool QC  Fence Misc Feature  \\\n",
              "0   NaN       IR1          Lvl  ...         0     NaN    NaN          NaN   \n",
              "1   NaN       Reg          Lvl  ...         0     NaN  MnPrv          NaN   \n",
              "2   NaN       IR1          Lvl  ...         0     NaN    NaN         Gar2   \n",
              "3   NaN       Reg          Lvl  ...         0     NaN    NaN          NaN   \n",
              "4   NaN       IR1          Lvl  ...         0     NaN  MnPrv          NaN   \n",
              "\n",
              "  Misc Val Mo Sold Yr Sold Sale Type  Sale Condition  SalePrice  \n",
              "0        0       5    2010       WD           Normal     215000  \n",
              "1        0       6    2010       WD           Normal     105000  \n",
              "2    12500       6    2010       WD           Normal     172000  \n",
              "3        0       4    2010       WD           Normal     244000  \n",
              "4        0       3    2010       WD           Normal     189900  \n",
              "\n",
              "[5 rows x 82 columns]"
            ],
            "text/html": [
              "\n",
              "  <div id=\"df-f55cc726-717f-4048-8af6-c02089301109\" class=\"colab-df-container\">\n",
              "    <div>\n",
              "<style scoped>\n",
              "    .dataframe tbody tr th:only-of-type {\n",
              "        vertical-align: middle;\n",
              "    }\n",
              "\n",
              "    .dataframe tbody tr th {\n",
              "        vertical-align: top;\n",
              "    }\n",
              "\n",
              "    .dataframe thead th {\n",
              "        text-align: right;\n",
              "    }\n",
              "</style>\n",
              "<table border=\"1\" class=\"dataframe\">\n",
              "  <thead>\n",
              "    <tr style=\"text-align: right;\">\n",
              "      <th></th>\n",
              "      <th>Order</th>\n",
              "      <th>PID</th>\n",
              "      <th>MS SubClass</th>\n",
              "      <th>MS Zoning</th>\n",
              "      <th>Lot Frontage</th>\n",
              "      <th>Lot Area</th>\n",
              "      <th>Street</th>\n",
              "      <th>Alley</th>\n",
              "      <th>Lot Shape</th>\n",
              "      <th>Land Contour</th>\n",
              "      <th>...</th>\n",
              "      <th>Pool Area</th>\n",
              "      <th>Pool QC</th>\n",
              "      <th>Fence</th>\n",
              "      <th>Misc Feature</th>\n",
              "      <th>Misc Val</th>\n",
              "      <th>Mo Sold</th>\n",
              "      <th>Yr Sold</th>\n",
              "      <th>Sale Type</th>\n",
              "      <th>Sale Condition</th>\n",
              "      <th>SalePrice</th>\n",
              "    </tr>\n",
              "  </thead>\n",
              "  <tbody>\n",
              "    <tr>\n",
              "      <th>0</th>\n",
              "      <td>1</td>\n",
              "      <td>526301100</td>\n",
              "      <td>20</td>\n",
              "      <td>RL</td>\n",
              "      <td>141.0</td>\n",
              "      <td>31770</td>\n",
              "      <td>Pave</td>\n",
              "      <td>NaN</td>\n",
              "      <td>IR1</td>\n",
              "      <td>Lvl</td>\n",
              "      <td>...</td>\n",
              "      <td>0</td>\n",
              "      <td>NaN</td>\n",
              "      <td>NaN</td>\n",
              "      <td>NaN</td>\n",
              "      <td>0</td>\n",
              "      <td>5</td>\n",
              "      <td>2010</td>\n",
              "      <td>WD</td>\n",
              "      <td>Normal</td>\n",
              "      <td>215000</td>\n",
              "    </tr>\n",
              "    <tr>\n",
              "      <th>1</th>\n",
              "      <td>2</td>\n",
              "      <td>526350040</td>\n",
              "      <td>20</td>\n",
              "      <td>RH</td>\n",
              "      <td>80.0</td>\n",
              "      <td>11622</td>\n",
              "      <td>Pave</td>\n",
              "      <td>NaN</td>\n",
              "      <td>Reg</td>\n",
              "      <td>Lvl</td>\n",
              "      <td>...</td>\n",
              "      <td>0</td>\n",
              "      <td>NaN</td>\n",
              "      <td>MnPrv</td>\n",
              "      <td>NaN</td>\n",
              "      <td>0</td>\n",
              "      <td>6</td>\n",
              "      <td>2010</td>\n",
              "      <td>WD</td>\n",
              "      <td>Normal</td>\n",
              "      <td>105000</td>\n",
              "    </tr>\n",
              "    <tr>\n",
              "      <th>2</th>\n",
              "      <td>3</td>\n",
              "      <td>526351010</td>\n",
              "      <td>20</td>\n",
              "      <td>RL</td>\n",
              "      <td>81.0</td>\n",
              "      <td>14267</td>\n",
              "      <td>Pave</td>\n",
              "      <td>NaN</td>\n",
              "      <td>IR1</td>\n",
              "      <td>Lvl</td>\n",
              "      <td>...</td>\n",
              "      <td>0</td>\n",
              "      <td>NaN</td>\n",
              "      <td>NaN</td>\n",
              "      <td>Gar2</td>\n",
              "      <td>12500</td>\n",
              "      <td>6</td>\n",
              "      <td>2010</td>\n",
              "      <td>WD</td>\n",
              "      <td>Normal</td>\n",
              "      <td>172000</td>\n",
              "    </tr>\n",
              "    <tr>\n",
              "      <th>3</th>\n",
              "      <td>4</td>\n",
              "      <td>526353030</td>\n",
              "      <td>20</td>\n",
              "      <td>RL</td>\n",
              "      <td>93.0</td>\n",
              "      <td>11160</td>\n",
              "      <td>Pave</td>\n",
              "      <td>NaN</td>\n",
              "      <td>Reg</td>\n",
              "      <td>Lvl</td>\n",
              "      <td>...</td>\n",
              "      <td>0</td>\n",
              "      <td>NaN</td>\n",
              "      <td>NaN</td>\n",
              "      <td>NaN</td>\n",
              "      <td>0</td>\n",
              "      <td>4</td>\n",
              "      <td>2010</td>\n",
              "      <td>WD</td>\n",
              "      <td>Normal</td>\n",
              "      <td>244000</td>\n",
              "    </tr>\n",
              "    <tr>\n",
              "      <th>4</th>\n",
              "      <td>5</td>\n",
              "      <td>527105010</td>\n",
              "      <td>60</td>\n",
              "      <td>RL</td>\n",
              "      <td>74.0</td>\n",
              "      <td>13830</td>\n",
              "      <td>Pave</td>\n",
              "      <td>NaN</td>\n",
              "      <td>IR1</td>\n",
              "      <td>Lvl</td>\n",
              "      <td>...</td>\n",
              "      <td>0</td>\n",
              "      <td>NaN</td>\n",
              "      <td>MnPrv</td>\n",
              "      <td>NaN</td>\n",
              "      <td>0</td>\n",
              "      <td>3</td>\n",
              "      <td>2010</td>\n",
              "      <td>WD</td>\n",
              "      <td>Normal</td>\n",
              "      <td>189900</td>\n",
              "    </tr>\n",
              "  </tbody>\n",
              "</table>\n",
              "<p>5 rows × 82 columns</p>\n",
              "</div>\n",
              "    <div class=\"colab-df-buttons\">\n",
              "\n",
              "  <div class=\"colab-df-container\">\n",
              "    <button class=\"colab-df-convert\" onclick=\"convertToInteractive('df-f55cc726-717f-4048-8af6-c02089301109')\"\n",
              "            title=\"Convert this dataframe to an interactive table.\"\n",
              "            style=\"display:none;\">\n",
              "\n",
              "  <svg xmlns=\"http://www.w3.org/2000/svg\" height=\"24px\" viewBox=\"0 -960 960 960\">\n",
              "    <path d=\"M120-120v-720h720v720H120Zm60-500h600v-160H180v160Zm220 220h160v-160H400v160Zm0 220h160v-160H400v160ZM180-400h160v-160H180v160Zm440 0h160v-160H620v160ZM180-180h160v-160H180v160Zm440 0h160v-160H620v160Z\"/>\n",
              "  </svg>\n",
              "    </button>\n",
              "\n",
              "  <style>\n",
              "    .colab-df-container {\n",
              "      display:flex;\n",
              "      gap: 12px;\n",
              "    }\n",
              "\n",
              "    .colab-df-convert {\n",
              "      background-color: #E8F0FE;\n",
              "      border: none;\n",
              "      border-radius: 50%;\n",
              "      cursor: pointer;\n",
              "      display: none;\n",
              "      fill: #1967D2;\n",
              "      height: 32px;\n",
              "      padding: 0 0 0 0;\n",
              "      width: 32px;\n",
              "    }\n",
              "\n",
              "    .colab-df-convert:hover {\n",
              "      background-color: #E2EBFA;\n",
              "      box-shadow: 0px 1px 2px rgba(60, 64, 67, 0.3), 0px 1px 3px 1px rgba(60, 64, 67, 0.15);\n",
              "      fill: #174EA6;\n",
              "    }\n",
              "\n",
              "    .colab-df-buttons div {\n",
              "      margin-bottom: 4px;\n",
              "    }\n",
              "\n",
              "    [theme=dark] .colab-df-convert {\n",
              "      background-color: #3B4455;\n",
              "      fill: #D2E3FC;\n",
              "    }\n",
              "\n",
              "    [theme=dark] .colab-df-convert:hover {\n",
              "      background-color: #434B5C;\n",
              "      box-shadow: 0px 1px 3px 1px rgba(0, 0, 0, 0.15);\n",
              "      filter: drop-shadow(0px 1px 2px rgba(0, 0, 0, 0.3));\n",
              "      fill: #FFFFFF;\n",
              "    }\n",
              "  </style>\n",
              "\n",
              "    <script>\n",
              "      const buttonEl =\n",
              "        document.querySelector('#df-f55cc726-717f-4048-8af6-c02089301109 button.colab-df-convert');\n",
              "      buttonEl.style.display =\n",
              "        google.colab.kernel.accessAllowed ? 'block' : 'none';\n",
              "\n",
              "      async function convertToInteractive(key) {\n",
              "        const element = document.querySelector('#df-f55cc726-717f-4048-8af6-c02089301109');\n",
              "        const dataTable =\n",
              "          await google.colab.kernel.invokeFunction('convertToInteractive',\n",
              "                                                    [key], {});\n",
              "        if (!dataTable) return;\n",
              "\n",
              "        const docLinkHtml = 'Like what you see? Visit the ' +\n",
              "          '<a target=\"_blank\" href=https://colab.research.google.com/notebooks/data_table.ipynb>data table notebook</a>'\n",
              "          + ' to learn more about interactive tables.';\n",
              "        element.innerHTML = '';\n",
              "        dataTable['output_type'] = 'display_data';\n",
              "        await google.colab.output.renderOutput(dataTable, element);\n",
              "        const docLink = document.createElement('div');\n",
              "        docLink.innerHTML = docLinkHtml;\n",
              "        element.appendChild(docLink);\n",
              "      }\n",
              "    </script>\n",
              "  </div>\n",
              "\n",
              "\n",
              "    <div id=\"df-86737025-a9cf-4d54-a7fd-0c4819ddbec3\">\n",
              "      <button class=\"colab-df-quickchart\" onclick=\"quickchart('df-86737025-a9cf-4d54-a7fd-0c4819ddbec3')\"\n",
              "                title=\"Suggest charts\"\n",
              "                style=\"display:none;\">\n",
              "\n",
              "<svg xmlns=\"http://www.w3.org/2000/svg\" height=\"24px\"viewBox=\"0 0 24 24\"\n",
              "     width=\"24px\">\n",
              "    <g>\n",
              "        <path d=\"M19 3H5c-1.1 0-2 .9-2 2v14c0 1.1.9 2 2 2h14c1.1 0 2-.9 2-2V5c0-1.1-.9-2-2-2zM9 17H7v-7h2v7zm4 0h-2V7h2v10zm4 0h-2v-4h2v4z\"/>\n",
              "    </g>\n",
              "</svg>\n",
              "      </button>\n",
              "\n",
              "<style>\n",
              "  .colab-df-quickchart {\n",
              "      --bg-color: #E8F0FE;\n",
              "      --fill-color: #1967D2;\n",
              "      --hover-bg-color: #E2EBFA;\n",
              "      --hover-fill-color: #174EA6;\n",
              "      --disabled-fill-color: #AAA;\n",
              "      --disabled-bg-color: #DDD;\n",
              "  }\n",
              "\n",
              "  [theme=dark] .colab-df-quickchart {\n",
              "      --bg-color: #3B4455;\n",
              "      --fill-color: #D2E3FC;\n",
              "      --hover-bg-color: #434B5C;\n",
              "      --hover-fill-color: #FFFFFF;\n",
              "      --disabled-bg-color: #3B4455;\n",
              "      --disabled-fill-color: #666;\n",
              "  }\n",
              "\n",
              "  .colab-df-quickchart {\n",
              "    background-color: var(--bg-color);\n",
              "    border: none;\n",
              "    border-radius: 50%;\n",
              "    cursor: pointer;\n",
              "    display: none;\n",
              "    fill: var(--fill-color);\n",
              "    height: 32px;\n",
              "    padding: 0;\n",
              "    width: 32px;\n",
              "  }\n",
              "\n",
              "  .colab-df-quickchart:hover {\n",
              "    background-color: var(--hover-bg-color);\n",
              "    box-shadow: 0 1px 2px rgba(60, 64, 67, 0.3), 0 1px 3px 1px rgba(60, 64, 67, 0.15);\n",
              "    fill: var(--button-hover-fill-color);\n",
              "  }\n",
              "\n",
              "  .colab-df-quickchart-complete:disabled,\n",
              "  .colab-df-quickchart-complete:disabled:hover {\n",
              "    background-color: var(--disabled-bg-color);\n",
              "    fill: var(--disabled-fill-color);\n",
              "    box-shadow: none;\n",
              "  }\n",
              "\n",
              "  .colab-df-spinner {\n",
              "    border: 2px solid var(--fill-color);\n",
              "    border-color: transparent;\n",
              "    border-bottom-color: var(--fill-color);\n",
              "    animation:\n",
              "      spin 1s steps(1) infinite;\n",
              "  }\n",
              "\n",
              "  @keyframes spin {\n",
              "    0% {\n",
              "      border-color: transparent;\n",
              "      border-bottom-color: var(--fill-color);\n",
              "      border-left-color: var(--fill-color);\n",
              "    }\n",
              "    20% {\n",
              "      border-color: transparent;\n",
              "      border-left-color: var(--fill-color);\n",
              "      border-top-color: var(--fill-color);\n",
              "    }\n",
              "    30% {\n",
              "      border-color: transparent;\n",
              "      border-left-color: var(--fill-color);\n",
              "      border-top-color: var(--fill-color);\n",
              "      border-right-color: var(--fill-color);\n",
              "    }\n",
              "    40% {\n",
              "      border-color: transparent;\n",
              "      border-right-color: var(--fill-color);\n",
              "      border-top-color: var(--fill-color);\n",
              "    }\n",
              "    60% {\n",
              "      border-color: transparent;\n",
              "      border-right-color: var(--fill-color);\n",
              "    }\n",
              "    80% {\n",
              "      border-color: transparent;\n",
              "      border-right-color: var(--fill-color);\n",
              "      border-bottom-color: var(--fill-color);\n",
              "    }\n",
              "    90% {\n",
              "      border-color: transparent;\n",
              "      border-bottom-color: var(--fill-color);\n",
              "    }\n",
              "  }\n",
              "</style>\n",
              "\n",
              "      <script>\n",
              "        async function quickchart(key) {\n",
              "          const quickchartButtonEl =\n",
              "            document.querySelector('#' + key + ' button');\n",
              "          quickchartButtonEl.disabled = true;  // To prevent multiple clicks.\n",
              "          quickchartButtonEl.classList.add('colab-df-spinner');\n",
              "          try {\n",
              "            const charts = await google.colab.kernel.invokeFunction(\n",
              "                'suggestCharts', [key], {});\n",
              "          } catch (error) {\n",
              "            console.error('Error during call to suggestCharts:', error);\n",
              "          }\n",
              "          quickchartButtonEl.classList.remove('colab-df-spinner');\n",
              "          quickchartButtonEl.classList.add('colab-df-quickchart-complete');\n",
              "        }\n",
              "        (() => {\n",
              "          let quickchartButtonEl =\n",
              "            document.querySelector('#df-86737025-a9cf-4d54-a7fd-0c4819ddbec3 button');\n",
              "          quickchartButtonEl.style.display =\n",
              "            google.colab.kernel.accessAllowed ? 'block' : 'none';\n",
              "        })();\n",
              "      </script>\n",
              "    </div>\n",
              "\n",
              "    </div>\n",
              "  </div>\n"
            ],
            "application/vnd.google.colaboratory.intrinsic+json": {
              "type": "dataframe",
              "variable_name": "data"
            }
          },
          "metadata": {},
          "execution_count": 61
        }
      ]
    },
    {
      "cell_type": "code",
      "source": [
        "data.shape"
      ],
      "metadata": {
        "colab": {
          "base_uri": "https://localhost:8080/"
        },
        "id": "ijtyVe3exM7h",
        "outputId": "6015c14c-3aed-40d3-db41-96ae2016c77d"
      },
      "execution_count": null,
      "outputs": [
        {
          "output_type": "execute_result",
          "data": {
            "text/plain": [
              "(2930, 82)"
            ]
          },
          "metadata": {},
          "execution_count": 62
        }
      ]
    },
    {
      "cell_type": "markdown",
      "source": [
        "## Preprocessing"
      ],
      "metadata": {
        "id": "2Y3grEr8P6vK"
      }
    },
    {
      "cell_type": "markdown",
      "source": [
        "I choose to drop the categorical variables."
      ],
      "metadata": {
        "id": "SUxaWGTUQiss"
      }
    },
    {
      "cell_type": "code",
      "source": [
        "target = \"SalePrice\"\n",
        "y = data[target]    # choose output variable\n",
        "\n",
        "data_num = data.select_dtypes(include=[np.number])    # keep only numerical columns\n",
        "X = data_num.drop(columns=[target])                   # removes target from predictors\n",
        "\n",
        "X = X.dropna()      # drop missing values\n",
        "y = y[X.index]"
      ],
      "metadata": {
        "id": "uEO5FpFaP90g"
      },
      "execution_count": null,
      "outputs": []
    },
    {
      "cell_type": "code",
      "source": [
        "X.shape"
      ],
      "metadata": {
        "colab": {
          "base_uri": "https://localhost:8080/"
        },
        "id": "fQ33u82d9lVX",
        "outputId": "aa4cb8d1-a42c-478d-a052-962201c184db"
      },
      "execution_count": null,
      "outputs": [
        {
          "output_type": "execute_result",
          "data": {
            "text/plain": [
              "(2274, 38)"
            ]
          },
          "metadata": {},
          "execution_count": 64
        }
      ]
    },
    {
      "cell_type": "markdown",
      "source": [
        "## Execution"
      ],
      "metadata": {
        "id": "JhKT2drcRzbk"
      }
    },
    {
      "cell_type": "markdown",
      "source": [
        "Try different split proportions, train and test the model, plot the results."
      ],
      "metadata": {
        "id": "Cd3n2vA4VuVv"
      }
    },
    {
      "cell_type": "code",
      "source": [
        "#seed = int(rng.integers(0, 2**31))\n",
        "test_ratios = np.linspace(0.1, 0.9, 9)    # 10%, ..., 90%\n",
        "\n",
        "errors = []\n",
        "for tr in test_ratios:\n",
        "  X_train, X_test, y_train, y_test = train_test_split(\n",
        "      X, y, test_size=tr, random_state=seed )\n",
        "\n",
        "  model = LinearRegression().fit(X_train, y_train)\n",
        "  y_pred = model.predict(X_test)\n",
        "  err = mean_squared_error(y_test, y_pred)\n",
        "  errors.append(err)\n",
        "\n",
        "\n",
        "fig, ax = subplots()\n",
        "ax.plot(test_ratios, errors)\n",
        "ax.set_xlabel(\"Test set ratio\")\n",
        "ax.set_ylabel(\"Test error\")\n",
        "fig;"
      ],
      "metadata": {
        "colab": {
          "base_uri": "https://localhost:8080/",
          "height": 465
        },
        "id": "maK0Gfp_U0BE",
        "outputId": "708f50d6-d1bc-47c9-e5ac-1f2df31133e5"
      },
      "execution_count": null,
      "outputs": [
        {
          "output_type": "display_data",
          "data": {
            "text/plain": [
              "<Figure size 640x480 with 1 Axes>"
            ],
            "image/png": "[encoded data removed]"
          },
          "metadata": {}
        }
      ]
    },
    {
      "cell_type": "markdown",
      "source": [
        "There doesn't seem to be a robust relationship between split proportions and test error, as we can see by changing the random seed \\\n",
        "(just uncomment the first line and rerun the cell instead of the whole notebook).\n",
        "\n",
        "This is not surprising if we look at the error magnitude: the data is manifestly not linear! \\\n",
        "Thus it makes sense that by changing the split, we see so much variability.\n",
        "\n"
      ],
      "metadata": {
        "id": "XidOI4G1pxL_"
      }
    },
    {
      "cell_type": "markdown",
      "source": [
        "# Exercise 2.7\n",
        "\n",
        "Consider the dataset `Ames` from `R` package _modeldata_ through linear regression.\n",
        "- Compute training and test error of _hold out set_ validation evaluated on random samples of the training/validation sets.\n",
        "- Compute training and test error of LOO-CV.\n",
        "- Compute training and test error of $k$-fold CV, for different values of $k$."
      ],
      "metadata": {
        "id": "xnwKf2lWYO8E"
      }
    },
    {
      "cell_type": "markdown",
      "source": [
        "## Preamble"
      ],
      "metadata": {
        "id": "BTuWyVmHachH"
      }
    },
    {
      "cell_type": "code",
      "source": [
        "# cross validation packages\n",
        "from sklearn.model_selection import (\n",
        "    LeaveOneOut,\n",
        "    KFold,\n",
        "    cross_validate,\n",
        ")"
      ],
      "metadata": {
        "id": "vmbbh1iJab-n"
      },
      "execution_count": null,
      "outputs": []
    },
    {
      "cell_type": "markdown",
      "source": [
        "## Setup"
      ],
      "metadata": {
        "id": "acr6GPz9whE5"
      }
    },
    {
      "cell_type": "markdown",
      "source": [
        "Define functions for the three cross validation methods. \\\n",
        "The training pool is splitted in training and validation sets, the model with the best performance on the validation set is chosen.\n",
        "\n",
        "We use `cross_validate` to automate the split + fit + score steps. \\\n",
        "Notice that this function returns negative MSE (by convention higher = better), so we need to flip the sign.\n",
        "\n",
        "Holdout is repeated multiple times and then averaged to reduce variance."
      ],
      "metadata": {
        "id": "a9niKfDwklax"
      }
    },
    {
      "cell_type": "code",
      "source": [
        "def best_model(results):\n",
        "  '''\n",
        "  Return best model and its training and validation errors.\n",
        "  results : dictionary with keys 'models', 'train_errors', 'val_errors'\n",
        "  '''\n",
        "  best_idx = np.argmin(results['val_errors'])   # minimize validation error\n",
        "  return  results['models'      ][best_idx], \\\n",
        "          results['train_errors'][best_idx], \\\n",
        "          results['val_errors'  ][best_idx]"
      ],
      "metadata": {
        "id": "dR7H1V2VwjNW"
      },
      "execution_count": null,
      "outputs": []
    },
    {
      "cell_type": "code",
      "source": [
        "def repeated_holdout(X_pool, y_pool, val_ratio=0.5, n_repeats=10):\n",
        "  results = {'models': [], 'train_errors': [], 'val_errors': []}\n",
        "\n",
        "  for _ in range(n_repeats):\n",
        "    X_train, X_val, y_train, y_val = train_test_split(\n",
        "        X_pool, y_pool, test_size=val_ratio, random_state=seed )\n",
        "\n",
        "    model = LinearRegression().fit(X_train, y_train)\n",
        "    results['models']      .append(model)\n",
        "    results['train_errors'].append(mean_squared_error(y_train, model.predict(X_train)))\n",
        "    results['val_errors']  .append(mean_squared_error(y_val  , model.predict(X_val  )))\n",
        "\n",
        "  return best_model(results)\n",
        "\n",
        "\n",
        "def loo_cv(X_pool, y_pool):\n",
        "  cv = LeaveOneOut()\n",
        "  cv_results = cross_validate(\n",
        "      LinearRegression(), X_pool, y_pool,\n",
        "      cv = cv,\n",
        "      scoring = 'neg_mean_squared_error',\n",
        "      return_train_score = True,\n",
        "      return_estimator   = True,\n",
        "  )\n",
        "\n",
        "  results = {\n",
        "      'models'      :  cv_results['estimator'],\n",
        "      'train_errors': -cv_results['train_score'],\n",
        "      'val_errors'  : -cv_results['test_score'],\n",
        "  }\n",
        "  return best_model(results)\n",
        "\n",
        "\n",
        "def kfold_cv(X_pool, y_pool, k):\n",
        "  cv = KFold(\n",
        "      n_splits     = k,\n",
        "      shuffle      = True,\n",
        "      random_state = seed\n",
        "  )\n",
        "  cv_results = cross_validate(\n",
        "      LinearRegression(), X_pool, y_pool,\n",
        "      cv = cv,\n",
        "      scoring = 'neg_mean_squared_error',\n",
        "      return_train_score = True,\n",
        "      return_estimator   = True,\n",
        "  )\n",
        "\n",
        "  results = {\n",
        "      'models'      :  cv_results['estimator'],\n",
        "      'train_errors': -cv_results['train_score'],\n",
        "      'val_errors'  : -cv_results['test_score'],\n",
        "  }\n",
        "  return best_model(results)"
      ],
      "metadata": {
        "id": "bXruON77cXh9"
      },
      "execution_count": null,
      "outputs": []
    },
    {
      "cell_type": "markdown",
      "source": [
        "## Execution"
      ],
      "metadata": {
        "id": "H1C2TwTgwnGR"
      }
    },
    {
      "cell_type": "markdown",
      "source": [
        "Split training pool (for training and validation) and test set."
      ],
      "metadata": {
        "id": "2ypflo4-5a6h"
      }
    },
    {
      "cell_type": "code",
      "source": [
        "X_pool, X_test, y_pool, y_test = train_test_split(\n",
        "    X, y, test_size=0.3, random_state=seed )"
      ],
      "metadata": {
        "id": "KbQkeTkxpbBI"
      },
      "execution_count": null,
      "outputs": []
    },
    {
      "cell_type": "code",
      "source": [
        "# use a template to print aligned columns\n",
        "template = \"{label:<12} train MSE = {tr:.2e},\\t val MSE = {va:.2e},\\t test MSE = {te:.2e}\"\n",
        "\n",
        "def printfun(label, best_model):\n",
        "  model, train_err, val_err = best_model\n",
        "  test_err = mean_squared_error(y_test, model.predict(X_test))\n",
        "\n",
        "  print(template.format(label = label + \":\",\n",
        "                        tr = train_err, va = val_err, te = test_err\n",
        "                       ))"
      ],
      "metadata": {
        "id": "5OugN5JV43SI"
      },
      "execution_count": null,
      "outputs": []
    },
    {
      "cell_type": "code",
      "source": [
        "printfun(\"holdout\", repeated_holdout(X_pool, y_pool))\n",
        "\n",
        "ks = [2, 5, 10, 100, 1000]\n",
        "for k in ks:\n",
        "  printfun(f\"{k}-fold\", kfold_cv(X_pool, y_pool, k))\n",
        "\n",
        "printfun(\"loo-cv\", loo_cv(X_pool, y_pool))"
      ],
      "metadata": {
        "colab": {
          "base_uri": "https://localhost:8080/"
        },
        "id": "zUzi3dpzwuax",
        "outputId": "f3319c84-6799-420f-cc78-fd9d1ebb7140"
      },
      "execution_count": null,
      "outputs": [
        {
          "output_type": "stream",
          "name": "stdout",
          "text": [
            "holdout:     train MSE = 1.08e+09,\t val MSE = 1.20e+09,\t test MSE = 1.44e+09\n",
            "2-fold:      train MSE = 1.08e+09,\t val MSE = 1.20e+09,\t test MSE = 1.44e+09\n",
            "5-fold:      train MSE = 1.16e+09,\t val MSE = 8.14e+08,\t test MSE = 1.35e+09\n",
            "10-fold:     train MSE = 1.13e+09,\t val MSE = 7.06e+08,\t test MSE = 1.35e+09\n",
            "100-fold:    train MSE = 1.09e+09,\t val MSE = 2.39e+08,\t test MSE = 1.34e+09\n",
            "1000-fold:   train MSE = 1.09e+09,\t val MSE = 2.99e+03,\t test MSE = 1.34e+09\n",
            "loo-cv:      train MSE = 1.09e+09,\t val MSE = 2.99e+03,\t test MSE = 1.34e+09\n"
          ]
        }
      ]
    },
    {
      "cell_type": "markdown",
      "source": [
        "# Exercise 2.8\n",
        "\n",
        "Consider the dataset `Ames` from `R` package _modeldata_ through linear regression (output of your choice). Find the _learning curve_ with an estimate of the test error obtained through _hold out set_ validation, LOO-CV, $k$-fold CV and bootstrap."
      ],
      "metadata": {
        "id": "njJkGAZXZOr2"
      }
    },
    {
      "cell_type": "markdown",
      "source": [
        "## Preamble"
      ],
      "metadata": {
        "id": "XvQ5nu6Hk3GK"
      }
    },
    {
      "cell_type": "code",
      "source": [
        "from functools import partial"
      ],
      "metadata": {
        "id": "Ji2SKLmoi-g4"
      },
      "execution_count": null,
      "outputs": []
    },
    {
      "cell_type": "markdown",
      "source": [
        "## Setup"
      ],
      "metadata": {
        "id": "5GEHQlEAlxKA"
      }
    },
    {
      "cell_type": "markdown",
      "source": [
        "Define bootstrap function. Evaluation is performed on the out-of-bag sample points."
      ],
      "metadata": {
        "id": "0pOWlUKAveWH"
      }
    },
    {
      "cell_type": "code",
      "source": [
        "def bootstrap(X_pool, y_pool, n_boot=50):\n",
        "  results = {'models': [], 'train_errors': [], 'val_errors': []}\n",
        "  n = len(X_pool)\n",
        "\n",
        "  for _ in range(n_boot):\n",
        "    # sample bootstrap indices (with replacement)\n",
        "    boot_idx = rng.choice(n, size=n, replace=True)\n",
        "\n",
        "    # identify out‑of‑bag (OOB) indices\n",
        "    mask = np.ones(n, dtype=bool)\n",
        "    mask[boot_idx] = False\n",
        "    oob_idx = np.nonzero(mask)[0]\n",
        "\n",
        "    # skip if no OOB\n",
        "    if oob_idx.size == 0:\n",
        "        continue\n",
        "\n",
        "    X_train, y_train = X_pool.iloc[boot_idx], y_pool.iloc[boot_idx]\n",
        "    X_val  , y_val   = X_pool.iloc[oob_idx],  y_pool.iloc[oob_idx]\n",
        "\n",
        "    model = LinearRegression().fit(X_train, y_train)\n",
        "    results['models']      .append(model)\n",
        "    results['train_errors'].append(mean_squared_error(y_train, model.predict(X_train)))\n",
        "    results['val_errors']  .append(mean_squared_error(y_val  , model.predict(X_val  )))\n",
        "\n",
        "  return best_model(results)"
      ],
      "metadata": {
        "id": "5CjYQd7vly_r"
      },
      "execution_count": null,
      "outputs": []
    },
    {
      "cell_type": "markdown",
      "source": [
        "## Execution"
      ],
      "metadata": {
        "id": "wQbYpWOvk59F"
      }
    },
    {
      "cell_type": "markdown",
      "source": [
        "Warning: it will take a while to run this cell."
      ],
      "metadata": {
        "id": "ym05wA5aC5ce"
      }
    },
    {
      "cell_type": "code",
      "source": [
        "n = len(X_pool)\n",
        "train_fracs = np.linspace(0.1, 1, 10)     # 10%, 20%, ..., 100%\n",
        "train_sizes = (train_fracs * n).astype(int)\n",
        "\n",
        "methods = [\n",
        "    (\"Hold‑out\",   repeated_holdout),\n",
        "    (\"2‑fold CV\",  partial(kfold_cv, k=2)),\n",
        "    (\"5‑fold CV\",  partial(kfold_cv, k=5)),\n",
        "    (\"10‑fold CV\", partial(kfold_cv, k=10)),\n",
        "    (\"LOO‑CV\",     loo_cv),\n",
        "    (\"Bootstrap\",  partial(bootstrap, n_boot=50)),\n",
        "]\n",
        "\n",
        "results = {name: {'train_err': [], 'val_err': []} for name, *_ in methods}\n",
        "\n",
        "\n",
        "for m in train_sizes:\n",
        "    # draw a random subset of size m from the pool\n",
        "    idx = rng.choice(n, size=m, replace=False)\n",
        "    X_sub = X_pool.iloc[idx]\n",
        "    y_sub = y_pool.iloc[idx]\n",
        "\n",
        "    for name, func in methods:\n",
        "      _, train_err, val_err = func(X_sub, y_sub)\n",
        "      results[name]['train_err'].append(train_err)\n",
        "      results[name]['val_err']  .append(val_err)"
      ],
      "metadata": {
        "id": "0OLhlvoKh1Lj"
      },
      "execution_count": null,
      "outputs": []
    },
    {
      "cell_type": "markdown",
      "source": [
        "## Plot"
      ],
      "metadata": {
        "id": "5uB6NuZXz8Qs"
      }
    },
    {
      "cell_type": "code",
      "source": [
        "fig, (axl, axr) = subplots(ncols=2, figsize=(12,5))\n",
        "\n",
        "for name, _ in methods:\n",
        "  axl.plot(train_sizes, results[name]['train_err'], label=name)\n",
        "  axr.plot(train_sizes, results[name]['val_err']  , label=name)\n",
        "\n",
        "axl.set_xlabel(\"Training set size\")\n",
        "axl.set_ylabel(\"Training error\")\n",
        "axl.legend()\n",
        "axr.set_xlabel(\"Training set size\")\n",
        "axr.set_ylabel(\"Validation error\")\n",
        "axr.legend();"
      ],
      "metadata": {
        "colab": {
          "base_uri": "https://localhost:8080/",
          "height": 480
        },
        "id": "poDiuZATz6uz",
        "outputId": "0f87d646-6392-4e55-b49d-800101443bee"
      },
      "execution_count": null,
      "outputs": [
        {
          "output_type": "display_data",
          "data": {
            "text/plain": [
              "<Figure size 1200x500 with 2 Axes>"
            ],
            "image/png": "[encoded data removed]"
          },
          "metadata": {}
        }
      ]
    },
    {
      "cell_type": "markdown",
      "source": [
        "As expected, training curves tend to get higher and validation ones get lower as training size increases (though they are quite jagged)."
      ],
      "metadata": {
        "id": "3uPJ3AKg7SFh"
      }
    }
  ]
}